{
 "cells": [
  {
   "cell_type": "code",
   "execution_count": 1,
   "id": "8f6b0023-744c-4df8-8af1-bfe1599a7c49",
   "metadata": {},
   "outputs": [],
   "source": [
    "from scipy.io import mmread\n",
    "\n",
    "# Read the .mtx file\n",
    "matrix = mmread('your_matrix_file.mtx')\n",
    "\n",
    "# The matrix is now a sparse matrix in COO format\n",
    "print(matrix)\n",
    "\n",
    "# To convert to a dense array\n",
    "dense_matrix = matrix.toarray()\n",
    "print(dense_matrix)"
   ]
  }
 ],
 "metadata": {
  "kernelspec": {
   "display_name": "DeepLearning",
   "language": "python",
   "name": "deeplearning"
  },
  "language_info": {
   "codemirror_mode": {
    "name": "ipython",
    "version": 3
   },
   "file_extension": ".py",
   "mimetype": "text/x-python",
   "name": "python",
   "nbconvert_exporter": "python",
   "pygments_lexer": "ipython3",
   "version": "3.10.12"
  }
 },
 "nbformat": 4,
 "nbformat_minor": 5
}
