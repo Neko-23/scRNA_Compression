{
 "cells": [
  {
   "cell_type": "markdown",
   "id": "3612d1bf",
   "metadata": {},
   "source": [
    "Create csv file for cluster-finding neural network"
   ]
  },
  {
   "cell_type": "code",
   "execution_count": null,
   "id": "990551dd",
   "metadata": {},
   "outputs": [],
   "source": [
    "from scipy.io import mmread\n",
    "import pandas as pd\n",
    "import numpy as np\n",
    "import matplotlib.pyplot as plt\n",
    "from collections import defaultdict\n",
    "import csv\n",
    "\n",
    "# Read the .mtx file\n",
    "sample = 1\n",
    "sparse_matrix = mmread('data/sample'+str(sample)+'/matrix.mtx')\n",
    "\n",
    "# To convert to a dense array\n",
    "matrix = sparse_matrix.toarray()"
   ]
  },
  {
   "cell_type": "markdown",
   "id": "23ed6a82",
   "metadata": {},
   "source": [
    "Compress file into three separate files: cluster_genes.csv, deltas.csv, and counts.csv"
   ]
  },
  {
   "cell_type": "code",
   "execution_count": 2,
   "id": "9a6daacf",
   "metadata": {},
   "outputs": [],
   "source": [
    "from compressor import compress\n",
    "sample = 'sample1'\n",
    "k = 'k30'\n",
    "\n",
    "label_path = 'compressed/neural/'+sample+'/'+k+'/cluster_labels.pkl'\n",
    "cluster_genes_path = 'compressed/neural/'+sample+'/'+k+'/cluster_genes.csv'\n",
    "deltas_path = 'compressed/neural/'+sample+'/'+k+'/deltas.csv'\n",
    "counts_path = 'compressed/neural/'+sample+'/'+k+'/counts.csv'\n",
    "\n",
    "compress(label_path, cluster_genes_path, deltas_path, counts_path, matrix)\n",
    "#compress(\"compressed/raceid/raceid_assignments.csv\", \"compressed/raceid/cluster_genes.csv\", \"compressed/raceid/deltas.csv\", matrix)"
   ]
  },
  {
   "cell_type": "markdown",
   "id": "85b67a50",
   "metadata": {},
   "source": [
    "Verify compression works"
   ]
  },
  {
   "cell_type": "code",
   "execution_count": 3,
   "id": "3341e0e8",
   "metadata": {},
   "outputs": [
    {
     "name": "stdout",
     "output_type": "stream",
     "text": [
      "Neural Accuracy Check Passed\n"
     ]
    }
   ],
   "source": [
    "from compressor import decompress\n",
    "neural_de = decompress(cluster_genes_path, deltas_path, counts_path, matrix.shape)\n",
    "#raceid_de = decompress(\"compressed/raceid/cluster_genes.csv\", \"compressed/raceid/deltas.csv\", matrix.shape)\n",
    "\n",
    "print(\"Neural Accuracy Check \" + \"Passed\" if (neural_de != matrix).sum(axis=None) == 0 else \"Failed\")\n",
    "#print(\"RaceID Accuracy Check \" + \"Passed\" if (raceid_de != (matrix > 0)).sum(axis=None) == 0 else \"Failed\")"
   ]
  }
 ],
 "metadata": {
  "kernelspec": {
   "display_name": "deeplearning",
   "language": "python",
   "name": "deeplearning"
  },
  "language_info": {
   "codemirror_mode": {
    "name": "ipython",
    "version": 3
   },
   "file_extension": ".py",
   "mimetype": "text/x-python",
   "name": "python",
   "nbconvert_exporter": "python",
   "pygments_lexer": "ipython3",
   "version": "3.11.5"
  }
 },
 "nbformat": 4,
 "nbformat_minor": 5
}
