{
 "cells": [
  {
   "cell_type": "markdown",
   "id": "3612d1bf",
   "metadata": {},
   "source": [
    "Create csv file for cluster-finding neural network"
   ]
  },
  {
   "cell_type": "code",
   "execution_count": 1,
   "id": "990551dd",
   "metadata": {},
   "outputs": [],
   "source": [
    "from scipy.io import mmread\n",
    "import pandas as pd\n",
    "import numpy as np\n",
    "import matplotlib.pyplot as plt\n",
    "from collections import defaultdict\n",
    "import csv\n",
    "\n",
    "# Read the .mtx file\n",
    "sample = 1\n",
    "sparse_matrix = mmread('data/sample'+str(sample)+'/matrix.mtx')\n",
    "\n",
    "# The matrix is now a sparse matrix in COO format\n",
    "#print(matrix)\n",
    "\n",
    "# To convert to a dense array\n",
    "matrix = sparse_matrix.toarray()\n",
    "#df = pd.DataFrame(matrix)\n",
    "#df = df.transpose()\n",
    "#df.to_csv('data/sample'+str(sample)+'/matrix.csv', index=True)"
   ]
  },
  {
   "cell_type": "markdown",
   "id": "d41b5ee0",
   "metadata": {},
   "source": [
    "Load saved cluster assignments"
   ]
  },
  {
   "cell_type": "code",
   "execution_count": null,
   "id": "8502c911",
   "metadata": {},
   "outputs": [
    {
     "data": {
      "text/plain": [
       "'num_dummy_cells = 600\\nnum_dummy_genes = 800\\nnum_dummy_clusters = 30\\nmatrix = np.concatenate([np.identity(num_dummy_cells), np.zeros([num_dummy_genes-num_dummy_cells,num_dummy_cells])]).astype(int).T\\ncluster_labels = np.random.randint(0,num_dummy_clusters,num_dummy_cells).tolist()'"
      ]
     },
     "execution_count": 14,
     "metadata": {},
     "output_type": "execute_result"
    }
   ],
   "source": [
    "'''num_dummy_cells = 600\n",
    "num_dummy_genes = 800\n",
    "num_dummy_clusters = 30\n",
    "matrix = np.concatenate([np.identity(num_dummy_cells), np.zeros([num_dummy_genes-num_dummy_cells,num_dummy_cells])]).astype(int).T\n",
    "cluster_labels = np.random.randint(0,num_dummy_clusters,num_dummy_cells).tolist()'''"
   ]
  },
  {
   "cell_type": "code",
   "execution_count": 2,
   "id": "9a6daacf",
   "metadata": {},
   "outputs": [],
   "source": [
    "from compressor import compress\n",
    "sample = 'sample1'\n",
    "k = 'k30'\n",
    "\n",
    "label_path = 'compressed/neural/'+sample+'/'+k+'/cluster_labels.pkl'\n",
    "cluster_genes_path = 'compressed/neural/'+sample+'/'+k+'/cluster_genes.csv'\n",
    "deltas_path = 'compressed/neural/'+sample+'/'+k+'/deltas.csv'\n",
    "counts_path = 'compressed/neural/'+sample+'/'+k+'/counts.csv'\n",
    "\n",
    "compress(label_path, cluster_genes_path, deltas_path, counts_path, matrix)\n",
    "#compress(\"compressed/raceid/raceid_assignments.csv\", \"compressed/raceid/cluster_genes.csv\", \"compressed/raceid/deltas.csv\", matrix)"
   ]
  },
  {
   "cell_type": "code",
   "execution_count": 3,
   "id": "3341e0e8",
   "metadata": {},
   "outputs": [
    {
     "name": "stdout",
     "output_type": "stream",
     "text": [
      "Neural Accuracy Check Passed\n"
     ]
    }
   ],
   "source": [
    "from compressor import decompress\n",
    "neural_de = decompress(cluster_genes_path, deltas_path, counts_path, matrix.shape)\n",
    "#raceid_de = decompress(\"compressed/raceid/cluster_genes.csv\", \"compressed/raceid/deltas.csv\", matrix.shape)\n",
    "\n",
    "print(\"Neural Accuracy Check \" + \"Passed\" if (neural_de != matrix).sum(axis=None) == 0 else \"Failed\")\n",
    "#print(\"RaceID Accuracy Check \" + \"Passed\" if (raceid_de != (matrix > 0)).sum(axis=None) == 0 else \"Failed\")"
   ]
  },
  {
   "cell_type": "markdown",
   "id": "5065fb9f",
   "metadata": {},
   "source": [
    "Compress sparse matrix using cluster info"
   ]
  },
  {
   "cell_type": "code",
   "execution_count": null,
   "id": "e76b949b",
   "metadata": {},
   "outputs": [
    {
     "data": {
      "text/plain": [
       "\"diff = cell_gene_matrix == (matrix > 0)\\nplt.figure(figsize=(10, 6))\\nplt.imshow(diff, aspect='auto', interpolation='nearest', cmap='gray')\\nplt.title('Compression Accuracy Map')\\nplt.xlabel('Cells')\\nplt.ylabel('Genes')\\nplt.colorbar(label='Match (1=True, 0=False)')\\nplt.show()\""
      ]
     },
     "execution_count": 9,
     "metadata": {},
     "output_type": "execute_result"
    }
   ],
   "source": [
    "'''diff = cell_gene_matrix == (matrix > 0)\n",
    "plt.figure(figsize=(10, 6))\n",
    "plt.imshow(diff, aspect='auto', interpolation='nearest', cmap='gray')\n",
    "plt.title('Compression Accuracy Map')\n",
    "plt.xlabel('Cells')\n",
    "plt.ylabel('Genes')\n",
    "plt.colorbar(label='Match (1=True, 0=False)')\n",
    "plt.show()'''"
   ]
  },
  {
   "cell_type": "code",
   "execution_count": null,
   "id": "0456a9c3",
   "metadata": {},
   "outputs": [],
   "source": []
  }
 ],
 "metadata": {
  "kernelspec": {
   "display_name": "deeplearning",
   "language": "python",
   "name": "deeplearning"
  },
  "language_info": {
   "codemirror_mode": {
    "name": "ipython",
    "version": 3
   },
   "file_extension": ".py",
   "mimetype": "text/x-python",
   "name": "python",
   "nbconvert_exporter": "python",
   "pygments_lexer": "ipython3",
   "version": "3.11.5"
  }
 },
 "nbformat": 4,
 "nbformat_minor": 5
}
