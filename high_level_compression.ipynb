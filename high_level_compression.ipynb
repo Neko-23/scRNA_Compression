{
 "cells": [
  {
   "cell_type": "markdown",
   "id": "23ed6a82",
   "metadata": {},
   "source": [
    "Compress matrix"
   ]
  },
  {
   "cell_type": "code",
   "execution_count": 1,
   "id": "9a6daacf",
   "metadata": {},
   "outputs": [],
   "source": [
    "from compressor import compress\n",
    "sample = 1\n",
    "k = 30\n",
    "\n",
    "label_path = 'compressed/neural/sample'+str(sample)+'/k'+str(k)+'/cluster_labels.pkl'\n",
    "matrix_path = 'data/sample'+str(sample)+'/matrix.mtx'\n",
    "out_path = 'compressed/neural/sample'+str(sample)+'/k'+str(k)\n",
    "\n",
    "compress(label_path, matrix_path, out_path)"
   ]
  },
  {
   "cell_type": "markdown",
   "id": "85b67a50",
   "metadata": {},
   "source": [
    "Verify compression works"
   ]
  },
  {
   "cell_type": "code",
   "execution_count": null,
   "id": "3341e0e8",
   "metadata": {},
   "outputs": [
    {
     "name": "stdout",
     "output_type": "stream",
     "text": [
      "Neural Accuracy Check Passed\n"
     ]
    }
   ],
   "source": [
    "from compressor import high_level_decompress\n",
    "\n",
    "in_path = 'compressed/neural/sample'+str(sample)+'/k'+str(k)\n",
    "high_level_decompress(in_path, matrix_path)"
   ]
  }
 ],
 "metadata": {
  "kernelspec": {
   "display_name": "deeplearning",
   "language": "python",
   "name": "deeplearning"
  },
  "language_info": {
   "codemirror_mode": {
    "name": "ipython",
    "version": 3
   },
   "file_extension": ".py",
   "mimetype": "text/x-python",
   "name": "python",
   "nbconvert_exporter": "python",
   "pygments_lexer": "ipython3",
   "version": "3.11.5"
  }
 },
 "nbformat": 4,
 "nbformat_minor": 5
}
