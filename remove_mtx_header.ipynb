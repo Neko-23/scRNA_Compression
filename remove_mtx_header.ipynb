{
 "cells": [
  {
   "cell_type": "code",
   "execution_count": 1,
   "id": "2951dede",
   "metadata": {},
   "outputs": [],
   "source": [
    "# Open the file in read mode\n",
    "\n",
    "sample = 'sample1'\n",
    "path = 'data/'+sample+'/matrix.mtx'\n",
    "\n",
    "with open('data/'+sample+'/matrix_no_header.txt', \"w\") as wf:\n",
    "    with open(path, \"r\") as rf:\n",
    "        line_num = 1\n",
    "        for line in rf:\n",
    "            if line_num > 3:\n",
    "                elem = line.split()\n",
    "                wf.write(elem[0] + ' ' + elem[1] + ' ' + elem[2] + '\\n')\n",
    "            line_num += 1\n",
    "\n",
    "wf.close()\n",
    "rf.close()"
   ]
  }
 ],
 "metadata": {
  "kernelspec": {
   "display_name": "deeplearning",
   "language": "python",
   "name": "deeplearning"
  },
  "language_info": {
   "codemirror_mode": {
    "name": "ipython",
    "version": 3
   },
   "file_extension": ".py",
   "mimetype": "text/x-python",
   "name": "python",
   "nbconvert_exporter": "python",
   "pygments_lexer": "ipython3",
   "version": "3.11.5"
  }
 },
 "nbformat": 4,
 "nbformat_minor": 5
}
