{
 "cells": [
  {
   "cell_type": "code",
   "execution_count": 9,
   "id": "2951dede",
   "metadata": {},
   "outputs": [],
   "source": [
    "# Open the file in read mode\n",
    "path = '/home/neko/spring2025/scRNA_Compression/data/GSE294399_WBC_020823_matrix.mtx/matrix.mtx'\n",
    "\n",
    "with open(\"matrix_no_counts.txt\", \"w\") as wf:\n",
    "    with open(path, \"r\") as rf:\n",
    "        line_num = 1\n",
    "        for line in rf:\n",
    "            if line_num > 2:\n",
    "                elem = line.split()\n",
    "                wf.write(elem[0] + ' ' + elem[1] + '\\n')\n",
    "            line_num += 1\n",
    "\n",
    "wf.close()\n",
    "rf.close()"
   ]
  }
 ],
 "metadata": {
  "kernelspec": {
   "display_name": "deeplearning",
   "language": "python",
   "name": "deeplearning"
  },
  "language_info": {
   "codemirror_mode": {
    "name": "ipython",
    "version": 3
   },
   "file_extension": ".py",
   "mimetype": "text/x-python",
   "name": "python",
   "nbconvert_exporter": "python",
   "pygments_lexer": "ipython3",
   "version": "3.11.5"
  }
 },
 "nbformat": 4,
 "nbformat_minor": 5
}
