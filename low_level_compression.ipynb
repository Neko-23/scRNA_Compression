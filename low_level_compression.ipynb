{
 "cells": [
  {
   "cell_type": "markdown",
   "id": "f361af57",
   "metadata": {},
   "source": [
    "Huffman encode the three files yielded by high level compression pipeline"
   ]
  },
  {
   "cell_type": "markdown",
   "id": "4ca17d17",
   "metadata": {},
   "source": [
    "Huffman"
   ]
  },
  {
   "cell_type": "code",
   "execution_count": 1,
   "id": "96cdcfea",
   "metadata": {},
   "outputs": [],
   "source": [
    "# Code retrieved from https://www.geeksforgeeks.org/huffman-coding-in-python/\n",
    "\n",
    "# Python program for Huffman Coding\n",
    "import heapq\n",
    "import collections\n",
    "import pickle\n",
    "import os\n",
    "\n",
    "class Node:\n",
    "    def __init__(self, symbol=None, frequency=None):\n",
    "        self.symbol = symbol\n",
    "        self.frequency = frequency\n",
    "        self.left = None\n",
    "        self.right = None\n",
    "\n",
    "    def __lt__(self, other):\n",
    "        return self.frequency < other.frequency\n",
    "\n",
    "def build_huffman_tree(freq_dict):\n",
    "  \n",
    "    # Create a priority queue of nodes\n",
    "    priority_queue = [Node(char, f) for char, f in freq_dict.items()]\n",
    "    heapq.heapify(priority_queue)\n",
    "\n",
    "    # Build the Huffman tree\n",
    "    while len(priority_queue) > 1:\n",
    "        left_child = heapq.heappop(priority_queue)\n",
    "        right_child = heapq.heappop(priority_queue)\n",
    "        merged_node = Node(frequency=left_child.frequency + right_child.frequency)\n",
    "        merged_node.left = left_child\n",
    "        merged_node.right = right_child\n",
    "        heapq.heappush(priority_queue, merged_node)\n",
    "\n",
    "    return priority_queue[0]\n",
    "\n",
    "def generate_huffman_codes(node, code=\"\", huffman_codes={}):\n",
    "    if node is not None:\n",
    "        if node.symbol is not None:\n",
    "            huffman_codes[node.symbol] = code\n",
    "        generate_huffman_codes(node.left, code + \"0\", huffman_codes)\n",
    "        generate_huffman_codes(node.right, code + \"1\", huffman_codes)\n",
    "\n",
    "    return huffman_codes\n",
    "\n",
    "def print_tree(node, prefix=\"\", is_left=True):\n",
    "    if node is not None:\n",
    "        s = prefix + (\"├─0 \" if is_left else \"└─1 \")\n",
    "        if node.symbol is not None:\n",
    "            s += str(node.symbol)\n",
    "        print(s)\n",
    "        if node.left or node.right:\n",
    "            print_tree(node.left, prefix + (\"│   \" if is_left else \"    \"), True)\n",
    "            print_tree(node.right, prefix + (\"│   \" if is_left else \"    \"), False)"
   ]
  },
  {
   "cell_type": "markdown",
   "id": "9026d744",
   "metadata": {},
   "source": [
    "Huffman encode the high-level compressed files"
   ]
  },
  {
   "cell_type": "code",
   "execution_count": 2,
   "id": "8180291d",
   "metadata": {},
   "outputs": [],
   "source": [
    "sample = 1\n",
    "k = 30\n",
    "target = 'deltas'\n",
    "\n",
    "path = 'compressed/neural/sample'+str(sample)+'/k'+str(k)\n",
    "with open(path + '/high_level_compress/'+target+'.csv', newline='') as f:\n",
    "    lines = f.readlines()\n",
    "\n",
    "    content = []\n",
    "    for l in lines:\n",
    "        content += list(map(int, l.replace('\\r', '').replace('\\n', '').split(',')))\n",
    "        content.append('\\n')\n",
    "    content = content[:-1]\n",
    "\n",
    "    root = build_huffman_tree(collections.Counter(content))\n",
    "    huffman_codes = generate_huffman_codes(root)\n",
    "\n",
    "    # Pickle the array and save to a file\n",
    "    filename = path+'/low_level_compress/'+target+'_huffman_tree'\n",
    "    with open(filename, 'wb') as file:\n",
    "        pickle.dump((root, len(content)), file)\n",
    "    file.close()\n",
    "    \n",
    "    with open(path + '/low_level_compress/huffman_encoded_'+target, 'wb') as file:\n",
    "        leftover = ''\n",
    "        for index, l in enumerate(lines):\n",
    "            elems = l.replace('\\r', '').replace('\\n', '').split(',')\n",
    "            elems = list(map(int, elems))\n",
    "            if index < len(lines) - 1:\n",
    "                elems.append('\\n')\n",
    "            binary_string = leftover\n",
    "            for e in elems:\n",
    "                binary_string += huffman_codes[e]\n",
    "\n",
    "            main_part = binary_string[:(8 * (len(binary_string) // 8))]\n",
    "            leftover = binary_string[(8 * (len(binary_string) // 8)):]\n",
    "\n",
    "            for i in range(0, len(main_part), 8):\n",
    "                byte_string = main_part[i:i + 8]\n",
    "                byte_value = int(byte_string, 2)\n",
    "                file.write(bytes([byte_value]))\n",
    "\n",
    "        if leftover:\n",
    "            leftover = leftover.ljust(8, '0')\n",
    "            byte_value = int(leftover, 2)\n",
    "            file.write(bytes([byte_value]))\n",
    "            \n",
    "    file.close()\n",
    "    "
   ]
  },
  {
   "cell_type": "markdown",
   "id": "51f04e3a",
   "metadata": {},
   "source": [
    "Decode the Huffman-encoded files for verification"
   ]
  },
  {
   "cell_type": "code",
   "execution_count": 3,
   "id": "76c42029",
   "metadata": {},
   "outputs": [
    {
     "name": "stdout",
     "output_type": "stream",
     "text": [
      "ENCODED CORRECTLY!\n"
     ]
    }
   ],
   "source": [
    "path = 'compressed/neural/sample'+str(sample)+'/k'+str(k) + '/low_level_compress/'\n",
    "\n",
    "with open(path + target + '_huffman_tree', 'rb') as file:\n",
    "    # Load the pickled object from the file\n",
    "    root2, length = pickle.load(file)\n",
    "file.close()\n",
    "\n",
    "decoded_lines = []\n",
    "count = 0\n",
    "with open(path + 'huffman_encoded_' + target, 'rb') as file:\n",
    "\n",
    "    decoded_line = []\n",
    "    cur = root2\n",
    "    n = 0\n",
    "    while byte := file.read(1):\n",
    "        for i in range(7,-1,-1):\n",
    "            if count == length:\n",
    "                break\n",
    "            sym = cur.symbol\n",
    "            if sym is not None:\n",
    "                count += 1\n",
    "                if sym != '\\n':\n",
    "                    decoded_line.append(sym)\n",
    "                else:\n",
    "                    decoded_lines.append(decoded_line)\n",
    "                    decoded_line = []\n",
    "                cur = root2\n",
    "            if (byte[0] >> i) & 1 == 0:\n",
    "                cur = cur.left\n",
    "            else:\n",
    "                cur = cur.right\n",
    "    if decoded_line:\n",
    "        decoded_lines.append(decoded_line)\n",
    "file.close()\n",
    "\n",
    "result = 'ENCODED CORRECTLY!'\n",
    "for i,l in enumerate(lines):\n",
    "    l = list(map(int, l.split(',')))\n",
    "\n",
    "    if (l != decoded_lines[i]):\n",
    "        result = 'ENCODED WRONG!!'\n",
    "        break\n",
    "print(result)"
   ]
  },
  {
   "cell_type": "code",
   "execution_count": 163,
   "id": "d9f67c40",
   "metadata": {},
   "outputs": [
    {
     "name": "stdout",
     "output_type": "stream",
     "text": [
      "[1, 1, 1, 2, 1, 1, 1, 1, 1, 6, 1, 4, 1, 2, 2, 2, 1, 1, 1, 1, 1, 1, 1, 3, 1, 3, 1, 1, 1, 1, 4, 1, 10, 1, 1, 1, 2, 1, 1, 1, 1, 1, 1, 4, 1, 1, 2, 1, 1, 1, 2, 2, 1, 1, 1, 2, 1, 1, 1, 2, 3, 24, 36, 4, 124, 20, 21, 1, 1, 1, 1, 2, 1, 1, 4, 2, 8, 9, 1, 1, 1, 1, 1, 1, 1, 1, 2, 1, 1, 7, 3, 1, 1, 4, 1, 1, 6, 1, 1, 1, 2, 1, 1, 1, 1, 2, 1, 1, 2, 2, 1, 1, 1, 1, 2, 2, 1, 1, 1, 1, 1, 1, 1, 1, 3, 1, 1, 2, 1, 3, 1, 2, 1, 1, 2, 1, 7, 3, 1, 1, 1, 1, 1, 1, 1, 1, 4, 1, 1, 1, 1, 2, 1, 1, 1, 1, 2, 1, 4, 1, 3, 1, 2, 1, 1, 1, 1, 1, 1, 1, 1, 1, 1, 1, 1, 1, 2, 1, 1, 2, 1, 1, 2, 1, 1, 4, 2, 1, 1, 1, 1, 1, 1, 2, 1, 1, 1, 1, 1, 1, 2, 2, 1, 1, 1, 1, 1, 1, 1, 2, 1, 1, 1, 7, 1, 3, 1, 1, 1, 2, 1, 1, 4, 1, 2, 1, 1, 1, 2, 1, 1, 1, 2, 1, 2, 1, 1, 1, 1, 1, 5, 1, 1, 17, 1, 1, 1, 3, 1, 1, 1, 1, 1, 1, 3, 1, 3, 1, 1, 1, 1, 1, 1, 1, 1, 1, 1, 1, 2, 1, 1, 2, 1, 1, 1, 6, 1, 1, 1, 1, 1, 1, 1, 2, 1, 2, 1, 1, 1, 2, 1, 1, 1, 3, 1, 1, 1, 1, 1, 1, 1, 7, 5, 2, 3, 9, 13, 1, 17, 2, 1, 3, 1, 1, 1, 1, 1, 2, 1, 1, 1, 2, 1, 1, 2, 1, 2, 1, 1, 7, 1, 1, 3, 1, 1, 1, 9, 2, 1, 1, 2, 4, 20, 1, 3, 1, 1, 1, 1, 1, 1, 2, 1, 2, 2, 4, 1, 1, 1, 1, 1, 9, 2, 1, 1, 1, 1, 1, 3, 1, 1, 1, 6, 1, 1, 6, 3, 5, 1, 5, 1, 2, 1, 1, 1, 1, 1, 2, 2, 2, 1, 1, 1, 1, 6, 2, 1, 1, 1, 1, 3, 1, 1, 2, 1, 1, 1, 2, 1, 1, 1, 3, 1, 1, 1, 1, 1, 1, 1, 1, 1, 1, 1, 2, 2, 1, 1, 1, 3, 1, 1, 1, 1, 1, 1, 5, 3, 1, 1, 1, 1, 2, 1, 4, 1, 1, 1, 1, 1, 1, 1, 1, 2, 1, 1, 1, 1, 59, 20, 33, 4, 2, 1, 4, 1, 1, 2, 1, 1, 1, 1, 3, 2, 3, 1, 5, 1, 1, 1, 92, 1, 1, 1, 1, 3, 12, 41, 1, 2, 2, 1, 1, 1, 1, 1, 1, 5, 1, 1, 1, 1, 1, 1, 1, 2, 1, 1, 2, 1, 4, 1, 1, 1, 1, 1, 1, 1, 1, 3, 1, 1, 1, 1, 1, 5, 1, 4, 3, 1, 1, 3, 1, 2, 2, 2, 2, 1, 1, 1, 1, 2, 1, 1, 2, 1, 1, 4, 1, 2, 1, 1, 1, 1, 1, 2, 1, 1, 1, 1, 1, 2, 1, 1, 1, 1, 1, 1, 1, 1, 1, 2, 1, 1, 1, 1, 1, 4, 1, 2, 1, 1, 1, 1, 1, 1, 1, 1, 1, 1, 3, 1, 1, 1, 1, 1, 1, 1, 3, 1, 2, 1, 1, 2, 6, 1, 1, 1, 1, 1, 2, 4, 1, 26, 1, 1, 1, 3, 2, 1, 3, 1, 1, 1, 1, 3, 1, 1, 1, 1, 2, 1, 2, 1, 1, 1, 1, 1, 1, 1, 1, 6, 1, 1, 1, 1, 2, 1, 2, 1, 1, 1, 1, 7, 2, 2, 1, 1, 1, 1, 4, 1, 1, 1, 1, 1, 1, 2, 1, 5, 1, 2, 1, 1, 1, 4, 1, 1, 3, 1, 1, 1, 1, 3, 1, 1, 7, 1, 1, 1, 1, 1, 1, 9, 1, 1, 5, 4, 1, 1, 1, 1, 1, 3, 2, 1, 2, 3, 2, 1, 1, 1, 1, 1, 2, 1, 1, 1, 1, 1, 1, 1, 3, 1, 1, 2, 1, 1, 1, 2, 1, 1, 1, 1, 1, 1, 1, 1, 6, 15, 2, 1, 1, 1, 1, 1, 2, 1, 1, 1, 1, 1, 1, 1, 1, 1, 1, 1, 3, 1, 1, 1, 1, 3, 1, 1, 1, 3, 1, 3, 1, 2, 8, 1, 1, 1, 2, 1, 12, 1, 1, 1, 1, 1, 1, 1, 2, 1, 1, 1, 1, 1, 1, 6, 1, 4, 1, 1, 2, 1, 1, 1, 1, 2, 1, 1, 1, 1, 3, 3, 1, 2, 1, 1, 1, 1, 1, 11, 1, 1, 1, 1, 12, 3, 1, 1, 2, 1, 2, 1, 1, 1, 1, 1, 1, 1, 1, 1, 1, 28, 1, 1, 1, 7, 2, 12, 2, 1, 2, 1, 4, 1, 2, 1, 1, 3, 2, 1, 1, 1, 1, 2, 2, 2, 1, 4, 2, 1, 1, 1, 1, 18, 2, 2, 9, 4, 1, 1, 1, 1, 9, 1, 1, 1, 1, 1, 1, 1, 1, 1, 1, 1, 1, 1, 1, 1, 1, 1, 1, 1, 2, 1, 1, 1, 1, 2, 2, 2, 1, 1, 1, 3, 2, 1, 2, 12, 1, 1, 1, 5, 1, 1, 1, 3, 2, 1, 1, 1, 1, 1, 1, 1, 1, 3, 5, 275, 47, 7, 5, 28, 63, 1, 860, 2, 388, 5, 1, 3, 160, 24, 6, 384, 1, 6, 3, 1, 23, 2, 126, 3]\n",
      "[1, 1, 1, 2, 1, 1, 1, 1, 1, 6, 1, 4, 1, 2, 2, 2, 1, 1, 1, 1, 1, 1, 1, 3, 1, 3, 1, 1, 1, 1, 4, 1, 10, 1, 1, 1, 2, 1, 1, 1, 1, 1, 1, 4, 1, 1, 2, 1, 1, 1, 2, 2, 1, 1, 1, 2, 1, 1, 1, 2, 3, 24, 36, 4, 124, 20, 21, 1, 1, 1, 1, 2, 1, 1, 4, 2, 8, 9, 1, 1, 1, 1, 1, 1, 1, 1, 2, 1, 1, 7, 3, 1, 1, 4, 1, 1, 6, 1, 1, 1, 2, 1, 1, 1, 1, 2, 1, 1, 2, 2, 1, 1, 1, 1, 2, 2, 1, 1, 1, 1, 1, 1, 1, 1, 3, 1, 1, 2, 1, 3, 1, 2, 1, 1, 2, 1, 7, 3, 1, 1, 1, 1, 1, 1, 1, 1, 4, 1, 1, 1, 1, 2, 1, 1, 1, 1, 2, 1, 4, 1, 3, 1, 2, 1, 1, 1, 1, 1, 1, 1, 1, 1, 1, 1, 1, 1, 2, 1, 1, 2, 1, 1, 2, 1, 1, 4, 2, 1, 1, 1, 1, 1, 1, 2, 1, 1, 1, 1, 1, 1, 2, 2, 1, 1, 1, 1, 1, 1, 1, 2, 1, 1, 1, 7, 1, 3, 1, 1, 1, 2, 1, 1, 4, 1, 2, 1, 1, 1, 2, 1, 1, 1, 2, 1, 2, 1, 1, 1, 1, 1, 5, 1, 1, 17, 1, 1, 1, 3, 1, 1, 1, 1, 1, 1, 3, 1, 3, 1, 1, 1, 1, 1, 1, 1, 1, 1, 1, 1, 2, 1, 1, 2, 1, 1, 1, 6, 1, 1, 1, 1, 1, 1, 1, 2, 1, 2, 1, 1, 1, 2, 1, 1, 1, 3, 1, 1, 1, 1, 1, 1, 1, 7, 5, 2, 3, 9, 13, 1, 17, 2, 1, 3, 1, 1, 1, 1, 1, 2, 1, 1, 1, 2, 1, 1, 2, 1, 2, 1, 1, 7, 1, 1, 3, 1, 1, 1, 9, 2, 1, 1, 2, 4, 20, 1, 3, 1, 1, 1, 1, 1, 1, 2, 1, 2, 2, 4, 1, 1, 1, 1, 1, 9, 2, 1, 1, 1, 1, 1, 3, 1, 1, 1, 6, 1, 1, 6, 3, 5, 1, 5, 1, 2, 1, 1, 1, 1, 1, 2, 2, 2, 1, 1, 1, 1, 6, 2, 1, 1, 1, 1, 3, 1, 1, 2, 1, 1, 1, 2, 1, 1, 1, 3, 1, 1, 1, 1, 1, 1, 1, 1, 1, 1, 1, 2, 2, 1, 1, 1, 3, 1, 1, 1, 1, 1, 1, 5, 3, 1, 1, 1, 1, 2, 1, 4, 1, 1, 1, 1, 1, 1, 1, 1, 2, 1, 1, 1, 1, 59, 20, 33, 4, 2, 1, 4, 1, 1, 2, 1, 1, 1, 1, 3, 2, 3, 1, 5, 1, 1, 1, 92, 1, 1, 1, 1, 3, 12, 41, 1, 2, 2, 1, 1, 1, 1, 1, 1, 5, 1, 1, 1, 1, 1, 1, 1, 2, 1, 1, 2, 1, 4, 1, 1, 1, 1, 1, 1, 1, 1, 3, 1, 1, 1, 1, 1, 5, 1, 4, 3, 1, 1, 3, 1, 2, 2, 2, 2, 1, 1, 1, 1, 2, 1, 1, 2, 1, 1, 4, 1, 2, 1, 1, 1, 1, 1, 2, 1, 1, 1, 1, 1, 2, 1, 1, 1, 1, 1, 1, 1, 1, 1, 2, 1, 1, 1, 1, 1, 4, 1, 2, 1, 1, 1, 1, 1, 1, 1, 1, 1, 1, 3, 1, 1, 1, 1, 1, 1, 1, 3, 1, 2, 1, 1, 2, 6, 1, 1, 1, 1, 1, 2, 4, 1, 26, 1, 1, 1, 3, 2, 1, 3, 1, 1, 1, 1, 3, 1, 1, 1, 1, 2, 1, 2, 1, 1, 1, 1, 1, 1, 1, 1, 6, 1, 1, 1, 1, 2, 1, 2, 1, 1, 1, 1, 7, 2, 2, 1, 1, 1, 1, 4, 1, 1, 1, 1, 1, 1, 2, 1, 5, 1, 2, 1, 1, 1, 4, 1, 1, 3, 1, 1, 1, 1, 3, 1, 1, 7, 1, 1, 1, 1, 1, 1, 9, 1, 1, 5, 4, 1, 1, 1, 1, 1, 3, 2, 1, 2, 3, 2, 1, 1, 1, 1, 1, 2, 1, 1, 1, 1, 1, 1, 1, 3, 1, 1, 2, 1, 1, 1, 2, 1, 1, 1, 1, 1, 1, 1, 1, 6, 15, 2, 1, 1, 1, 1, 1, 2, 1, 1, 1, 1, 1, 1, 1, 1, 1, 1, 1, 3, 1, 1, 1, 1, 3, 1, 1, 1, 3, 1, 3, 1, 2, 8, 1, 1, 1, 2, 1, 12, 1, 1, 1, 1, 1, 1, 1, 2, 1, 1, 1, 1, 1, 1, 6, 1, 4, 1, 1, 2, 1, 1, 1, 1, 2, 1, 1, 1, 1, 3, 3, 1, 2, 1, 1, 1, 1, 1, 11, 1, 1, 1, 1, 12, 3, 1, 1, 2, 1, 2, 1, 1, 1, 1, 1, 1, 1, 1, 1, 1, 28, 1, 1, 1, 7, 2, 12, 2, 1, 2, 1, 4, 1, 2, 1, 1, 3, 2, 1, 1, 1, 1, 2, 2, 2, 1, 4, 2, 1, 1, 1, 1, 18, 2, 2, 9, 4, 1, 1, 1, 1, 9, 1, 1, 1, 1, 1, 1, 1, 1, 1, 1, 1, 1, 1, 1, 1, 1, 1, 1, 1, 2, 1, 1, 1, 1, 2, 2, 2, 1, 1, 1, 3, 2, 1, 2, 12, 1, 1, 1, 5, 1, 1, 1, 3, 2, 1, 1, 1, 1, 1, 1, 1, 1, 3, 5, 275, 47, 7, 5, 28, 63, 1, 860, 2, 388, 5, 1, 3, 160, 24, 6, 384, 1, 6, 3, 1, 23, 2, 126, 3, 2, 2]\n"
     ]
    }
   ],
   "source": [
    "print(list(map(int, lines[-1].split(','))))\n",
    "print(decoded_lines[-1])"
   ]
  }
 ],
 "metadata": {
  "kernelspec": {
   "display_name": "deeplearning",
   "language": "python",
   "name": "deeplearning"
  },
  "language_info": {
   "codemirror_mode": {
    "name": "ipython",
    "version": 3
   },
   "file_extension": ".py",
   "mimetype": "text/x-python",
   "name": "python",
   "nbconvert_exporter": "python",
   "pygments_lexer": "ipython3",
   "version": "3.11.5"
  }
 },
 "nbformat": 4,
 "nbformat_minor": 5
}
