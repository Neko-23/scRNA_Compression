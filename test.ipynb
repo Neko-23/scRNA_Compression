{
 "cells": [
  {
   "cell_type": "code",
   "execution_count": null,
   "id": "8f6b0023-744c-4df8-8af1-bfe1599a7c49",
   "metadata": {},
   "outputs": [
    {
     "name": "stdout",
     "output_type": "stream",
     "text": [
      "  (0, 0)\t7.437663\n",
      "  (1, 0)\t18.56949\n",
      "  (3, 0)\t1.0688732\n",
      "  (4, 0)\t49.492558\n",
      "  (5, 0)\t2698.542\n",
      "  (6, 0)\t23.944803\n",
      "  (9, 0)\t4.0\n",
      "  (10, 0)\t4.0\n",
      "  (11, 0)\t123.0\n",
      "  (12, 0)\t4521.0\n",
      "  (13, 0)\t2580.617\n",
      "  (14, 0)\t22.992706\n",
      "  (17, 0)\t1.0\n",
      "  (18, 0)\t1132.0\n",
      "  (19, 0)\t73.28532\n",
      "  (24, 0)\t1.0\n",
      "  (26, 0)\t10.669837\n",
      "  (28, 0)\t315.9188\n",
      "  (29, 0)\t148.68715\n",
      "  (31, 0)\t2092.1492\n",
      "  (32, 0)\t1210.0\n",
      "  (35, 0)\t2472.0505\n",
      "  (36, 0)\t70.5809\n",
      "  (37, 0)\t1.0\n",
      "  (39, 0)\t476.0\n",
      "  :\t:\n",
      "  (12341, 37)\t168.0\n",
      "  (12345, 37)\t1.0\n",
      "  (12351, 37)\t0.5\n",
      "  (12352, 37)\t1.5\n",
      "  (12358, 37)\t133.0\n",
      "  (12359, 37)\t2.0\n",
      "  (12370, 37)\t75.5\n",
      "  (12372, 37)\t0.40888014\n",
      "  (12373, 37)\t2.3070774\n",
      "  (12384, 37)\t2.0\n",
      "  (12390, 37)\t1.0\n",
      "  (12397, 37)\t2.0\n",
      "  (12401, 37)\t0.5\n",
      "  (12403, 37)\t0.5\n",
      "  (12407, 37)\t0.5\n",
      "  (12411, 37)\t0.56294745\n",
      "  (12418, 37)\t0.5\n",
      "  (12427, 37)\t0.5171065\n",
      "  (12428, 37)\t0.5\n",
      "  (12440, 37)\t0.5\n",
      "  (12446, 37)\t0.5\n",
      "  (12447, 37)\t1.5\n",
      "  (12453, 37)\t1.1575006\n",
      "  (12467, 37)\t1.0\n",
      "  (12468, 37)\t206.03542\n",
      "[[7.4376630e+00 1.0000000e+00 0.0000000e+00 ... 1.0000000e+00\n",
      "  1.7172217e+03 1.2111864e+00]\n",
      " [1.8569490e+01 0.0000000e+00 1.0338047e+00 ... 0.0000000e+00\n",
      "  1.0417596e+00 0.0000000e+00]\n",
      " [0.0000000e+00 0.0000000e+00 0.0000000e+00 ... 1.0000000e+00\n",
      "  0.0000000e+00 0.0000000e+00]\n",
      " ...\n",
      " [0.0000000e+00 0.0000000e+00 0.0000000e+00 ... 1.0000000e+00\n",
      "  0.0000000e+00 1.0000000e+00]\n",
      " [1.8554879e+03 0.0000000e+00 0.0000000e+00 ... 0.0000000e+00\n",
      "  1.0000000e+00 2.0603542e+02]\n",
      " [0.0000000e+00 0.0000000e+00 0.0000000e+00 ... 0.0000000e+00\n",
      "  0.0000000e+00 0.0000000e+00]]\n"
     ]
    }
   ],
   "source": [
    "from scipy.io import mmread\n",
    "\n",
    "# Read the .mtx file\n",
    "# file found under https://www.ebi.ac.uk/gxa/sc/experiments/E-MTAB-2983/downloads\n",
    "matrix = mmread('E-MTAB-2983-quantification-raw-files/E-MTAB-2983.aggregated_filtered_counts.mtx')\n",
    "\n",
    "# The matrix is now a sparse matrix in COO format\n",
    "print(matrix)\n",
    "\n",
    "# To convert to a dense array\n",
    "dense_matrix = matrix.toarray()\n",
    "print(dense_matrix)"
   ]
  },
  {
   "cell_type": "code",
   "execution_count": 2,
   "id": "cfdcd351-511c-4a48-8b94-17bee820491b",
   "metadata": {},
   "outputs": [
    {
     "data": {
      "text/plain": [
       "<12470x38 sparse matrix of type '<class 'numpy.float64'>'\n",
       "\twith 122973 stored elements in COOrdinate format>"
      ]
     },
     "execution_count": 2,
     "metadata": {},
     "output_type": "execute_result"
    }
   ],
   "source": [
    "matrix"
   ]
  },
  {
   "cell_type": "code",
   "execution_count": 8,
   "id": "cca0ba40-dd46-4a00-929c-8883b8a06305",
   "metadata": {},
   "outputs": [
    {
     "data": {
      "text/plain": [
       "12470"
      ]
     },
     "execution_count": 8,
     "metadata": {},
     "output_type": "execute_result"
    }
   ],
   "source": [
    "len(dense_matrix)"
   ]
  },
  {
   "cell_type": "code",
   "execution_count": 9,
   "id": "a01cf26e-ca3f-4aab-9ac4-7f4c7cca145e",
   "metadata": {},
   "outputs": [
    {
     "data": {
      "text/plain": [
       "38"
      ]
     },
     "execution_count": 9,
     "metadata": {},
     "output_type": "execute_result"
    }
   ],
   "source": [
    "len(dense_matrix[0])"
   ]
  }
 ],
 "metadata": {
  "kernelspec": {
   "display_name": "DeepLearning",
   "language": "python",
   "name": "deeplearning"
  },
  "language_info": {
   "codemirror_mode": {
    "name": "ipython",
    "version": 3
   },
   "file_extension": ".py",
   "mimetype": "text/x-python",
   "name": "python",
   "nbconvert_exporter": "python",
   "pygments_lexer": "ipython3",
   "version": "3.10.12"
  }
 },
 "nbformat": 4,
 "nbformat_minor": 5
}
