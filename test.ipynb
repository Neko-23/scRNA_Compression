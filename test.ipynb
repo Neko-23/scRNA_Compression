{
 "cells": [
  {
   "cell_type": "code",
   "execution_count": null,
   "id": "8f6b0023-744c-4df8-8af1-bfe1599a7c49",
   "metadata": {},
   "outputs": [],
   "source": [
    "from scipy.io import mmread\n",
    "import pandas as pd\n",
    "import numpy as np\n",
    "[]\n",
    "# Read the .mtx file\n",
    "# file found under https://www.ebi.ac.uk/gxa/sc/experiments/E-MTAB-2983/downloads\n",
    "matrix = mmread('E-MTAB-2983-quantification-raw-files/E-MTAB-2983.aggregated_filtered_counts.mtx')\n",
    "\n",
    "# The matrix is now a sparse matrix in COO format\n",
    "#print(matrix)\n",
    "\n",
    "# To convert to a dense array\n",
    "dense_matrix = matrix.toarray()\n",
    "df = pd.DataFrame(dense_matrix)\n",
    "df.to_csv(\"matrix.csv\", index=False)"
   ]
  },
  {
   "cell_type": "code",
   "execution_count": 2,
   "id": "cfdcd351-511c-4a48-8b94-17bee820491b",
   "metadata": {},
   "outputs": [
    {
     "data": {
      "text/plain": [
       "<12470x38 sparse matrix of type '<class 'numpy.float64'>'\n",
       "\twith 122973 stored elements in COOrdinate format>"
      ]
     },
     "execution_count": 2,
     "metadata": {},
     "output_type": "execute_result"
    }
   ],
   "source": [
    "matrix"
   ]
  },
  {
   "cell_type": "code",
   "execution_count": 8,
   "id": "cca0ba40-dd46-4a00-929c-8883b8a06305",
   "metadata": {},
   "outputs": [
    {
     "data": {
      "text/plain": [
       "12470"
      ]
     },
     "execution_count": 8,
     "metadata": {},
     "output_type": "execute_result"
    }
   ],
   "source": [
    "len(dense_matrix)"
   ]
  },
  {
   "cell_type": "code",
   "execution_count": 9,
   "id": "a01cf26e-ca3f-4aab-9ac4-7f4c7cca145e",
   "metadata": {},
   "outputs": [
    {
     "data": {
      "text/plain": [
       "38"
      ]
     },
     "execution_count": 9,
     "metadata": {},
     "output_type": "execute_result"
    }
   ],
   "source": [
    "len(dense_matrix[0])"
   ]
  }
 ],
 "metadata": {
  "kernelspec": {
   "display_name": "DeepLearning",
   "language": "python",
   "name": "deeplearning"
  },
  "language_info": {
   "codemirror_mode": {
    "name": "ipython",
    "version": 3
   },
   "file_extension": ".py",
   "mimetype": "text/x-python",
   "name": "python",
   "nbconvert_exporter": "python",
   "pygments_lexer": "ipython3",
   "version": "3.10.12"
  }
 },
 "nbformat": 4,
 "nbformat_minor": 5
}
