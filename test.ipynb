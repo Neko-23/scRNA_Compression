{
 "cells": [
  {
   "cell_type": "code",
   "execution_count": 1,
   "id": "8f6b0023-744c-4df8-8af1-bfe1599a7c49",
   "metadata": {},
   "outputs": [
    {
     "ename": "ValueError",
     "evalue": "Line 1: Not a Matrix Market file. Missing banner.",
     "output_type": "error",
     "traceback": [
      "\u001b[0;31m---------------------------------------------------------------------------\u001b[0m",
      "\u001b[0;31mValueError\u001b[0m                                Traceback (most recent call last)",
      "Cell \u001b[0;32mIn[1], line 7\u001b[0m\n\u001b[1;32m      4\u001b[0m []\n\u001b[1;32m      5\u001b[0m \u001b[38;5;66;03m# Read the .mtx file\u001b[39;00m\n\u001b[1;32m      6\u001b[0m \u001b[38;5;66;03m# file found under https://www.ebi.ac.uk/gxa/sc/experiments/E-MTAB-2983/downloads\u001b[39;00m\n\u001b[0;32m----> 7\u001b[0m matrix \u001b[38;5;241m=\u001b[39m \u001b[43mmmread\u001b[49m\u001b[43m(\u001b[49m\u001b[38;5;124;43m'\u001b[39;49m\u001b[38;5;124;43mE-MTAB-2983-quantification-raw-files/E-MTAB-2983.aggregated_filtered_counts.mtx\u001b[39;49m\u001b[38;5;124;43m'\u001b[39;49m\u001b[43m)\u001b[49m\n\u001b[1;32m      9\u001b[0m \u001b[38;5;66;03m# The matrix is now a sparse matrix in COO format\u001b[39;00m\n\u001b[1;32m     10\u001b[0m \u001b[38;5;66;03m#print(matrix)\u001b[39;00m\n\u001b[1;32m     11\u001b[0m \n\u001b[1;32m     12\u001b[0m \u001b[38;5;66;03m# To convert to a dense array\u001b[39;00m\n\u001b[1;32m     13\u001b[0m dense_matrix \u001b[38;5;241m=\u001b[39m matrix\u001b[38;5;241m.\u001b[39mtoarray()\n",
      "File \u001b[0;32m~/Documents/scRNA_Compression/venv/lib/python3.9/site-packages/scipy/io/_fast_matrix_market/__init__.py:354\u001b[0m, in \u001b[0;36mmmread\u001b[0;34m(source)\u001b[0m\n\u001b[1;32m    294\u001b[0m \u001b[38;5;28;01mdef\u001b[39;00m\u001b[38;5;250m \u001b[39m\u001b[38;5;21mmmread\u001b[39m(source):\n\u001b[1;32m    295\u001b[0m \u001b[38;5;250m    \u001b[39m\u001b[38;5;124;03m\"\"\"\u001b[39;00m\n\u001b[1;32m    296\u001b[0m \u001b[38;5;124;03m    Reads the contents of a Matrix Market file-like 'source' into a matrix.\u001b[39;00m\n\u001b[1;32m    297\u001b[0m \n\u001b[0;32m   (...)\u001b[0m\n\u001b[1;32m    352\u001b[0m \n\u001b[1;32m    353\u001b[0m \u001b[38;5;124;03m    \"\"\"\u001b[39;00m\n\u001b[0;32m--> 354\u001b[0m     cursor, stream_to_close \u001b[38;5;241m=\u001b[39m \u001b[43m_get_read_cursor\u001b[49m\u001b[43m(\u001b[49m\u001b[43msource\u001b[49m\u001b[43m)\u001b[49m\n\u001b[1;32m    356\u001b[0m     \u001b[38;5;28;01mif\u001b[39;00m cursor\u001b[38;5;241m.\u001b[39mheader\u001b[38;5;241m.\u001b[39mformat \u001b[38;5;241m==\u001b[39m \u001b[38;5;124m\"\u001b[39m\u001b[38;5;124marray\u001b[39m\u001b[38;5;124m\"\u001b[39m:\n\u001b[1;32m    357\u001b[0m         mat \u001b[38;5;241m=\u001b[39m _read_body_array(cursor)\n",
      "File \u001b[0;32m~/Documents/scRNA_Compression/venv/lib/python3.9/site-packages/scipy/io/_fast_matrix_market/__init__.py:197\u001b[0m, in \u001b[0;36m_get_read_cursor\u001b[0;34m(source, parallelism)\u001b[0m\n\u001b[1;32m    195\u001b[0m         ret_stream_to_close \u001b[38;5;241m=\u001b[39m source\n\u001b[1;32m    196\u001b[0m     \u001b[38;5;28;01melse\u001b[39;00m:\n\u001b[0;32m--> 197\u001b[0m         \u001b[38;5;28;01mreturn\u001b[39;00m \u001b[43m_fmm_core\u001b[49m\u001b[38;5;241;43m.\u001b[39;49m\u001b[43mopen_read_file\u001b[49m\u001b[43m(\u001b[49m\u001b[43mpath\u001b[49m\u001b[43m,\u001b[49m\u001b[43m \u001b[49m\u001b[43mparallelism\u001b[49m\u001b[43m)\u001b[49m, ret_stream_to_close\n\u001b[1;32m    199\u001b[0m \u001b[38;5;66;03m# Stream object.\u001b[39;00m\n\u001b[1;32m    200\u001b[0m \u001b[38;5;28;01mif\u001b[39;00m \u001b[38;5;28mhasattr\u001b[39m(source, \u001b[38;5;124m\"\u001b[39m\u001b[38;5;124mread\u001b[39m\u001b[38;5;124m\"\u001b[39m):\n",
      "\u001b[0;31mValueError\u001b[0m: Line 1: Not a Matrix Market file. Missing banner."
     ]
    }
   ],
   "source": [
    "from scipy.io import mmread\n",
    "import pandas as pd\n",
    "import numpy as np\n",
    "[]\n",
    "# Read the .mtx file\n",
    "# file found under https://www.ebi.ac.uk/gxa/sc/experiments/E-MTAB-2983/downloads\n",
    "matrix = mmread('E-MTAB-2983-quantification-raw-files/E-MTAB-2983.aggregated_filtered_counts.mtx')\n",
    "\n",
    "# The matrix is now a sparse matrix in COO format\n",
    "#print(matrix)\n",
    "\n",
    "# To convert to a dense array\n",
    "dense_matrix = matrix.toarray()\n",
    "df = pd.DataFrame(dense_matrix)\n",
    "df.to_csv(\"matrix.csv\", index=False)"
   ]
  },
  {
   "cell_type": "code",
   "execution_count": null,
   "id": "cfdcd351-511c-4a48-8b94-17bee820491b",
   "metadata": {},
   "outputs": [],
   "source": [
    "matrix"
   ]
  },
  {
   "cell_type": "code",
   "execution_count": null,
   "id": "cca0ba40-dd46-4a00-929c-8883b8a06305",
   "metadata": {},
   "outputs": [],
   "source": [
    "len(dense_matrix)"
   ]
  },
  {
   "cell_type": "code",
   "execution_count": null,
   "id": "a01cf26e-ca3f-4aab-9ac4-7f4c7cca145e",
   "metadata": {},
   "outputs": [],
   "source": [
    "len(dense_matrix[0])"
   ]
  }
 ],
 "metadata": {
  "kernelspec": {
   "display_name": "venv",
   "language": "python",
   "name": "python3"
  },
  "language_info": {
   "codemirror_mode": {
    "name": "ipython",
    "version": 3
   },
   "file_extension": ".py",
   "mimetype": "text/x-python",
   "name": "python",
   "nbconvert_exporter": "python",
   "pygments_lexer": "ipython3",
   "version": "3.9.6"
  }
 },
 "nbformat": 4,
 "nbformat_minor": 5
}
