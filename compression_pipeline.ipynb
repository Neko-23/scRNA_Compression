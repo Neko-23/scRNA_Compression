{
 "cells": [
  {
   "cell_type": "markdown",
   "id": "b91f9207",
   "metadata": {},
   "source": [
    "GET CLUSTER LABELS BEFORE RUNNING THIS PIPELINE!\n",
    "\n",
    "Set the sample dataset id and number of k clusters"
   ]
  },
  {
   "cell_type": "code",
   "execution_count": 1,
   "id": "6d9175c8",
   "metadata": {},
   "outputs": [],
   "source": [
    "sample = 1\n",
    "k = 30"
   ]
  },
  {
   "cell_type": "markdown",
   "id": "23ed6a82",
   "metadata": {},
   "source": [
    "Compress create csc and csr formats"
   ]
  },
  {
   "cell_type": "code",
   "execution_count": 2,
   "id": "9a6daacf",
   "metadata": {},
   "outputs": [],
   "source": [
    "from compressor import compress\n",
    "from scipy.io import mmread\n",
    "from scipy.sparse import save_npz\n",
    "import numpy as np\n",
    "import os\n",
    "\n",
    "label_path = 'compressed/neural/sample'+str(sample)+'/k'+str(k)+'/cluster_labels.pkl'\n",
    "matrix_path = 'data/sample'+str(sample)+'/matrix.mtx'\n",
    "out_path = 'compressed/neural/sample'+str(sample)+'/k'+str(k)\n",
    "\n",
    "sparse_matrix = mmread(matrix_path)\n",
    "csr = sparse_matrix.tocsr()\n",
    "save_npz('data/sample'+str(sample)+'/csr.npz', csr)\n",
    "output_prefix = 'data/sample'+str(sample)+'/csr_nozip/csr'\n",
    "if not os.path.isdir('data/sample'+str(sample)+'/csr_nozip'):\n",
    "    os.mkdir('data/sample'+str(sample)+'/csr_nozip')\n",
    "np.save(f\"{output_prefix}_data.npy\", csr.data)\n",
    "np.save(f\"{output_prefix}_indices.npy\", csr.indices)\n",
    "np.save(f\"{output_prefix}_indptr.npy\", csr.indptr)\n",
    "np.save(f\"{output_prefix}_shape.npy\", np.array(csr.shape))\n",
    "\n",
    "csc = sparse_matrix.tocsc()\n",
    "save_npz('data/sample'+str(sample)+'/csc.npz', csc)\n",
    "output_prefix = 'data/sample'+str(sample)+'/csc_nozip/csc'\n",
    "if not os.path.isdir('data/sample'+str(sample)+'/csc_nozip'):\n",
    "    os.mkdir('data/sample'+str(sample)+'/csc_nozip')\n",
    "np.save(f\"{output_prefix}_data.npy\", csc.data)\n",
    "np.save(f\"{output_prefix}_indices.npy\", csc.indices)\n",
    "np.save(f\"{output_prefix}_indptr.npy\", csc.indptr)\n",
    "np.save(f\"{output_prefix}_shape.npy\", np.array(csc.shape))"
   ]
  },
  {
   "cell_type": "markdown",
   "id": "d783b222",
   "metadata": {},
   "source": [
    "Compress using our compressor"
   ]
  },
  {
   "cell_type": "code",
   "execution_count": 3,
   "id": "eab84993",
   "metadata": {},
   "outputs": [],
   "source": [
    "compress(label_path, matrix_path, out_path)"
   ]
  },
  {
   "cell_type": "markdown",
   "id": "1c5ce07a",
   "metadata": {},
   "source": [
    "Apply gzip"
   ]
  },
  {
   "cell_type": "code",
   "execution_count": 4,
   "id": "18df2867",
   "metadata": {},
   "outputs": [
    {
     "name": "stdout",
     "output_type": "stream",
     "text": [
      "File copied successfully from compressed/neural/sample1/k30/high_level_compress/cluster_genes.csv to compressed/neural/sample1/k30/low_level_compress\n",
      "  adding: compressed/neural/sample1/k30/high_level_compress/ (stored 0%)\n",
      "  adding: compressed/neural/sample1/k30/high_level_compress/counts.csv (deflated 82%)\n",
      "  adding: compressed/neural/sample1/k30/high_level_compress/cluster_genes.csv (deflated 62%)\n",
      "  adding: compressed/neural/sample1/k30/high_level_compress/deltas.csv (deflated 64%)\n",
      "  adding: compressed/neural/sample1/k30/low_level_compress/ (stored 0%)\n",
      "  adding: compressed/neural/sample1/k30/low_level_compress/cluster_genes.csv (deflated 62%)\n",
      "  adding: compressed/neural/sample1/k30/low_level_compress/huffman_encoded_deltas (deflated 1%)\n",
      "  adding: compressed/neural/sample1/k30/low_level_compress/huffman_encoded_counts (deflated 3%)\n",
      "  adding: compressed/neural/sample1/k30/low_level_compress/counts_huffman_tree (deflated 89%)\n",
      "  adding: compressed/neural/sample1/k30/low_level_compress/deltas_huffman_tree (deflated 87%)\n"
     ]
    },
    {
     "data": {
      "text/plain": [
       "CompletedProcess(args=['zip', '-r', 'compressed/neural/sample1/k30/low_level_compress.gz', 'compressed/neural/sample1/k30/low_level_compress'], returncode=0)"
      ]
     },
     "execution_count": 4,
     "metadata": {},
     "output_type": "execute_result"
    }
   ],
   "source": [
    "import shutil\n",
    "\n",
    "# copy cluster_genes.csv from high level to low level\n",
    "def copy_file(source_path, destination_path):\n",
    "    \"\"\"Copies a file from the source path to the destination path.\n",
    "\n",
    "    Args:\n",
    "        source_path: The path to the file to be copied.\n",
    "        destination_path: The path to the destination directory.\n",
    "    \"\"\"\n",
    "    try:\n",
    "         shutil.copy(source_path, destination_path)\n",
    "         print(f\"File copied successfully from {source_path} to {destination_path}\")\n",
    "    except FileNotFoundError:\n",
    "        print(f\"Error: Source file not found: {source_path}\")\n",
    "    except PermissionError:\n",
    "         print(f\"Error: Permission denied to access {source_path} or {destination_path}\")\n",
    "    except Exception as e:\n",
    "         print(f\"An unexpected error occurred: {e}\")\n",
    "    \n",
    "copy_file(out_path + '/high_level_compress/cluster_genes.csv', out_path + '/low_level_compress')\n",
    "\n",
    "# gzip high_level_compress dir and low_level_compress dir\n",
    "import subprocess\n",
    "subprocess.run([\"zip\", \"-r\", out_path + '/high_level_compress.gz', out_path + '/high_level_compress'])\n",
    "subprocess.run([\"zip\", \"-r\", out_path + '/low_level_compress.gz', out_path + '/low_level_compress'])"
   ]
  },
  {
   "cell_type": "markdown",
   "id": "85b67a50",
   "metadata": {},
   "source": [
    "Verify compression works"
   ]
  },
  {
   "cell_type": "code",
   "execution_count": 4,
   "id": "3341e0e8",
   "metadata": {},
   "outputs": [
    {
     "name": "stdout",
     "output_type": "stream",
     "text": [
      "High Level Accuracy Check Passed\n",
      "deltas huffman : ENCODED CORRECTLY!\n",
      "counts huffman : ENCODED CORRECTLY!\n"
     ]
    }
   ],
   "source": [
    "from compressor import high_level_decompress, low_level_decompress\n",
    "\n",
    "in_path = 'compressed/neural/sample'+str(sample)+'/k'+str(k)\n",
    "high_level_decompress(in_path, matrix_path)\n",
    "low_level_decompress(in_path)"
   ]
  },
  {
   "cell_type": "markdown",
   "id": "44b3394d",
   "metadata": {},
   "source": [
    "Generate plots"
   ]
  },
  {
   "cell_type": "code",
   "execution_count": null,
   "id": "8431dd38",
   "metadata": {},
   "outputs": [],
   "source": []
  },
  {
   "cell_type": "code",
   "execution_count": 11,
   "id": "677dc4b2",
   "metadata": {},
   "outputs": [
    {
     "data": {
      "image/png": "[encoded data removed]",
      "text/plain": [
       "<Figure size 640x480 with 1 Axes>"
      ]
     },
     "metadata": {},
     "output_type": "display_data"
    }
   ],
   "source": [
    "import matplotlib.pyplot as plt\n",
    "import numpy as np\n",
    "\n",
    "# Sample data\n",
    "categories = ['A', 'B', 'C', 'D']\n",
    "values = [3, 7, 2, 9]\n",
    "colors = ['red', 'green', 'blue', 'purple']\n",
    "\n",
    "# Create the bar chart\n",
    "plt.bar(categories, values, color=colors)\n",
    "\n",
    "# Add labels and title\n",
    "plt.xlabel('Categories')\n",
    "plt.ylabel('Values')\n",
    "plt.title('Bar Chart Example')\n",
    "\n",
    "# Display the chart\n",
    "plt.show()"
   ]
  }
 ],
 "metadata": {
  "kernelspec": {
   "display_name": "deeplearning",
   "language": "python",
   "name": "deeplearning"
  },
  "language_info": {
   "codemirror_mode": {
    "name": "ipython",
    "version": 3
   },
   "file_extension": ".py",
   "mimetype": "text/x-python",
   "name": "python",
   "nbconvert_exporter": "python",
   "pygments_lexer": "ipython3",
   "version": "3.11.5"
  }
 },
 "nbformat": 4,
 "nbformat_minor": 5
}
